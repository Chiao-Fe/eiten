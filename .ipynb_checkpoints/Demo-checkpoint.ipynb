{
 "cells": [
  {
   "cell_type": "code",
   "execution_count": 1,
   "metadata": {},
   "outputs": [
    {
     "name": "stdout",
     "output_type": "stream",
     "text": [
      "Populating the interactive namespace from numpy and matplotlib\n"
     ]
    }
   ],
   "source": [
    "%pylab inline\n",
    "import sys, os\n",
    "sys.path.insert(1, os.path.join(sys.path[0], '..'))\n",
    "from eiten import Eiten "
   ]
  },
  {
   "cell_type": "code",
   "execution_count": 2,
   "metadata": {},
   "outputs": [
    {
     "name": "stdout",
     "output_type": "stream",
     "text": [
      "\n",
      "--* Eiten has been initialized...\n",
      "\n",
      "\n"
     ]
    }
   ],
   "source": [
    "et = Eiten()"
   ]
  },
  {
   "cell_type": "code",
   "execution_count": 3,
   "metadata": {},
   "outputs": [
    {
     "name": "stderr",
     "output_type": "stream",
     "text": [
      "\r",
      "  0%|                                                                                            | 0/9 [00:00<?, ?it/s]"
     ]
    },
    {
     "name": "stdout",
     "output_type": "stream",
     "text": [
      "\n",
      "--> Data engine has been initialized...\n",
      "Loading all stocks from file...\n",
      "Total number of stocks: 9\n",
      "Loading data for all stocks...\n"
     ]
    },
    {
     "name": "stderr",
     "output_type": "stream",
     "text": [
      "\r",
      " 11%|█████████▎                                                                          | 1/9 [00:00<00:04,  1.89it/s]"
     ]
    },
    {
     "name": "stdout",
     "output_type": "stream",
     "text": [
      "Exception 'numpy.ndarray' object has no attribute 'fillna'\n"
     ]
    },
    {
     "name": "stderr",
     "output_type": "stream",
     "text": [
      "\r",
      " 22%|██████████████████▋                                                                 | 2/9 [00:00<00:03,  2.28it/s]"
     ]
    },
    {
     "name": "stdout",
     "output_type": "stream",
     "text": [
      "Exception 'numpy.ndarray' object has no attribute 'fillna'\n"
     ]
    },
    {
     "name": "stderr",
     "output_type": "stream",
     "text": [
      "\r",
      " 33%|████████████████████████████                                                        | 3/9 [00:00<00:02,  2.65it/s]"
     ]
    },
    {
     "name": "stdout",
     "output_type": "stream",
     "text": [
      "Exception 'numpy.ndarray' object has no attribute 'fillna'\n"
     ]
    },
    {
     "name": "stderr",
     "output_type": "stream",
     "text": [
      "\r",
      " 44%|█████████████████████████████████████▎                                              | 4/9 [00:01<00:01,  2.84it/s]"
     ]
    },
    {
     "name": "stdout",
     "output_type": "stream",
     "text": [
      "Exception 'numpy.ndarray' object has no attribute 'fillna'\n"
     ]
    },
    {
     "name": "stderr",
     "output_type": "stream",
     "text": [
      "\r",
      " 56%|██████████████████████████████████████████████▋                                     | 5/9 [00:01<00:01,  3.12it/s]"
     ]
    },
    {
     "name": "stdout",
     "output_type": "stream",
     "text": [
      "Exception 'numpy.ndarray' object has no attribute 'fillna'\n"
     ]
    },
    {
     "name": "stderr",
     "output_type": "stream",
     "text": [
      "\r",
      " 67%|████████████████████████████████████████████████████████                            | 6/9 [00:01<00:00,  3.43it/s]"
     ]
    },
    {
     "name": "stdout",
     "output_type": "stream",
     "text": [
      "Exception 'numpy.ndarray' object has no attribute 'fillna'\n"
     ]
    },
    {
     "name": "stderr",
     "output_type": "stream",
     "text": [
      "\r",
      " 78%|█████████████████████████████████████████████████████████████████▎                  | 7/9 [00:01<00:00,  3.69it/s]"
     ]
    },
    {
     "name": "stdout",
     "output_type": "stream",
     "text": [
      "Exception 'numpy.ndarray' object has no attribute 'fillna'\n"
     ]
    },
    {
     "name": "stderr",
     "output_type": "stream",
     "text": [
      "\r",
      " 89%|██████████████████████████████████████████████████████████████████████████▋         | 8/9 [00:02<00:00,  3.92it/s]"
     ]
    },
    {
     "name": "stdout",
     "output_type": "stream",
     "text": [
      "Exception 'numpy.ndarray' object has no attribute 'fillna'\n"
     ]
    },
    {
     "name": "stderr",
     "output_type": "stream",
     "text": [
      "100%|████████████████████████████████████████████████████████████████████████████████████| 9/9 [00:02<00:00,  3.73it/s]"
     ]
    },
    {
     "name": "stdout",
     "output_type": "stream",
     "text": [
      "Exception 'numpy.ndarray' object has no attribute 'fillna'\n"
     ]
    },
    {
     "name": "stderr",
     "output_type": "stream",
     "text": [
      "\n"
     ]
    }
   ],
   "source": [
    "data_dict = et.load_data()"
   ]
  },
  {
   "cell_type": "code",
   "execution_count": 4,
   "metadata": {},
   "outputs": [
    {
     "name": "stderr",
     "output_type": "stream",
     "text": [
      "\r",
      "  0%|                                                                                            | 0/9 [00:00<?, ?it/s]"
     ]
    },
    {
     "name": "stdout",
     "output_type": "stream",
     "text": [
      "Loading data for all stocks...\n"
     ]
    },
    {
     "name": "stderr",
     "output_type": "stream",
     "text": [
      "100%|████████████████████████████████████████████████████████████████████████████████████| 9/9 [00:02<00:00,  3.81it/s]\n"
     ]
    },
    {
     "name": "stdout",
     "output_type": "stream",
     "text": [
      "\n",
      "** Applying random matrix theory to filter out noise in the covariance matrix...\n",
      "\n",
      "-$ Calculating portfolio weights using eigen values...\n",
      "eig_values (9,) eig_vectors (9, 9)\n",
      "-! Calculating portfolio weights using minimum variance portfolio algorithm...\n",
      "-# Calculating portfolio weights using maximum sharpe portfolio algorithm...\n",
      "-* Calculating portfolio weights using genetic algorithm...\n",
      "\n",
      "*% Printing portfolio weights...\n",
      "\n",
      "-------- Weights for Eigen Portfolio --------\n",
      "Symbol: AAPL, Weight: -0.8588\n",
      "Symbol: AMD, Weight: -0.6379\n",
      "Symbol: AMZN, Weight: -0.4312\n",
      "Symbol: FB, Weight: -0.5116\n",
      "Symbol: MSFT, Weight: -0.4374\n",
      "Symbol: NFLX, Weight: -1.1136\n",
      "Symbol: NVDA, Weight: -1.1735\n",
      "Symbol: SQQQ, Weight: 1.1598\n",
      "Symbol: TSLA, Weight: 5.0042\n",
      "\n",
      "-------- Weights for Minimum Variance Portfolio (MVP) --------\n",
      "Symbol: AAPL, Weight: 0.0528\n",
      "Symbol: AMD, Weight: 0.0755\n",
      "Symbol: AMZN, Weight: 0.1723\n",
      "Symbol: FB, Weight: 0.1128\n",
      "Symbol: MSFT, Weight: 0.1923\n",
      "Symbol: NFLX, Weight: 0.0412\n",
      "Symbol: NVDA, Weight: 0.0484\n",
      "Symbol: SQQQ, Weight: 0.2821\n",
      "Symbol: TSLA, Weight: 0.0226\n",
      "\n",
      "-------- Weights for Maximum Sharpe Portfolio (MSR) --------\n",
      "Symbol: AAPL, Weight: -0.1606\n",
      "Symbol: AMD, Weight: 1.1515\n",
      "Symbol: AMZN, Weight: -0.0388\n",
      "Symbol: FB, Weight: 0.2373\n",
      "Symbol: MSFT, Weight: -0.0308\n",
      "Symbol: NFLX, Weight: 0.0607\n",
      "Symbol: NVDA, Weight: -0.1770\n",
      "Symbol: SQQQ, Weight: 0.2304\n",
      "Symbol: TSLA, Weight: -0.2728\n",
      "\n",
      "-------- Weights for Genetic Algo (GA) --------\n",
      "Symbol: AAPL, Weight: -0.4369\n",
      "Symbol: AMD, Weight: -1.0116\n",
      "Symbol: AMZN, Weight: -2.3091\n",
      "Symbol: FB, Weight: 0.5059\n",
      "Symbol: MSFT, Weight: 0.0095\n",
      "Symbol: NFLX, Weight: 0.3325\n",
      "Symbol: NVDA, Weight: -0.1813\n",
      "Symbol: SQQQ, Weight: -0.6802\n",
      "Symbol: TSLA, Weight: 0.7219\n",
      "\n",
      "*& Backtesting the portfolios...\n",
      "\n",
      "#^ Future testing the portfolios...\n",
      "\n",
      "+$ Simulating future prices using monte carlo...\n",
      "{'AAPL': -0.8587993994766128, 'AMD': -0.6378536513178515, 'AMZN': -0.431210585800188, 'FB': -0.511639960273437, 'MSFT': -0.43735588414386617, 'NFLX': -1.1136164804406894, 'NVDA': -1.1735042343611668, 'SQQQ': 1.159765050860694, 'TSLA': 5.004215144953117}\n"
     ]
    },
    {
     "data": {
      "image/png": "[encoded data removed]",
      "text/plain": [
       "<Figure size 864x432 with 1 Axes>"
      ]
     },
     "metadata": {},
     "output_type": "display_data"
    },
    {
     "name": "stdout",
     "output_type": "stream",
     "text": [
      "{'AAPL': -0.8587993994766128, 'AMD': -0.6378536513178515, 'AMZN': -0.431210585800188, 'FB': -0.511639960273437, 'MSFT': -0.43735588414386617, 'NFLX': -1.1136164804406894, 'NVDA': -1.1735042343611668, 'SQQQ': 1.159765050860694, 'TSLA': 5.004215144953117}\n",
      "{'AAPL': -0.8587993994766128, 'AMD': -0.6378536513178515, 'AMZN': -0.431210585800188, 'FB': -0.511639960273437, 'MSFT': -0.43735588414386617, 'NFLX': -1.1136164804406894, 'NVDA': -1.1735042343611668, 'SQQQ': 1.159765050860694, 'TSLA': 5.004215144953117}\n",
      "{'AAPL': -0.4369306238899776, 'AMD': -1.0115784282008393, 'AMZN': -2.3091148432564372, 'FB': 0.5058836309304608, 'MSFT': 0.009511216792968975, 'NFLX': 0.33246631319412956, 'NVDA': -0.18129905403714677, 'SQQQ': -0.680171626027902, 'TSLA': 0.721905802094419}\n"
     ]
    },
    {
     "data": {
      "image/png": "[encoded data removed]",
      "text/plain": [
       "<Figure size 864x432 with 1 Axes>"
      ]
     },
     "metadata": {},
     "output_type": "display_data"
    }
   ],
   "source": [
    "et.run_strategies()"
   ]
  }
 ],
 "metadata": {
  "kernelspec": {
   "display_name": "Python 3",
   "language": "python",
   "name": "python3"
  },
  "language_info": {
   "codemirror_mode": {
    "name": "ipython",
    "version": 3
   },
   "file_extension": ".py",
   "mimetype": "text/x-python",
   "name": "python",
   "nbconvert_exporter": "python",
   "pygments_lexer": "ipython3",
   "version": "3.7.7"
  }
 },
 "nbformat": 4,
 "nbformat_minor": 4
}
